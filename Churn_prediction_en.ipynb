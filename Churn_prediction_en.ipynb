{
  "nbformat": 4,
  "nbformat_minor": 0,
  "metadata": {
    "colab": {
      "provenance": [],
      "authorship_tag": "ABX9TyNofh+RaOntAEMXGkVRurP3",
      "include_colab_link": true
    },
    "kernelspec": {
      "name": "python3",
      "display_name": "Python 3"
    },
    "language_info": {
      "name": "python"
    }
  },
  "cells": [
    {
      "cell_type": "markdown",
      "metadata": {
        "id": "view-in-github",
        "colab_type": "text"
      },
      "source": [
        "<a href=\"https://colab.research.google.com/github/CaioLSouza/my_portfolio_en/blob/main/Churn_prediction_en.ipynb\" target=\"_parent\"><img src=\"https://colab.research.google.com/assets/colab-badge.svg\" alt=\"Open In Colab\"/></a>"
      ]
    },
    {
      "cell_type": "markdown",
      "source": [
        "### Churn Prediction\n",
        "\n",
        "\n",
        "In a business, *churn* is a metric that indicates the number of customers who canceled a company's service/subscription, usually measured in a defined time interval (weekly, monthly, yearly, etc.). Thus, if, for example, a company has a base of 100 customers and 10 of them cancel the service/product offered by it, then the churn rate is equal to 10%. Therefore, churn is a problem faced by the most varied types of companies that seek to minimize its occurrence as much as possible.\n",
        "\n",
        "It is also important to emphasize that the churn problem can be understood both from the perspective of the number of customers and from the perspective of the total monetary loss caused by cancellations, which is the so-called MRR churn. MRR churn is the sum of the value of canceled subscriptions. This allows you to discriminate the loss of larger and more important customers for your business from those customers who are less important.\n",
        "\n",
        "Therefore, for a company to achieve growth in its number of customers, it is necessary that the number of new customers exceeds the number of churns. Furthermore, the cost of acquiring new customers is naturally higher than the cost of retaining customers who already subscribe to your service.\n",
        "\n",
        "\n",
        "Therefore, the possibility of giving a company the ability to predict which of its customers are about to cancel their subscription is extremely important and convenient. Based on this information, the company is able to make decisions that prevent the loss of these customers, such as sending official messages, offering discounts, special opportunities, etc.\n",
        "\n",
        "In this context, we can see how much the use of machine learning can be useful. Using it, we can build models that are able to predict which customers are most likely to unsubscribe. Thus, a company would be able to use this information to reduce the number of cancellations, allowing an increase in its revenues and a reduction in its costs.\n",
        "\n",
        "Given that, the purpose of this project is to use data from a telecommunications company to try to predict whether or not a particular customer will cancel their service (churn)."
      ],
      "metadata": {
        "id": "MWtm--nIOy7m"
      }
    },
    {
      "cell_type": "markdown",
      "source": [
        "## Problem definition\n",
        "\n",
        "As you can see, we are dealing with a typical supervised machine learning problem for classification: we want, from a set of data and known information, to predict whether a given customer will or will not cancel their subscription. Therefore, the target variable or response variable is a binary variable that tells us whether or not *churn* occurred."
      ],
      "metadata": {
        "id": "_NMdPaDbPcUp"
      }
    },
    {
      "cell_type": "markdown",
      "source": [
        "## Import packages and libraries"
      ],
      "metadata": {
        "id": "thSzB1KiPj6Y"
      }
    },
    {
      "cell_type": "code",
      "execution_count": 1,
      "metadata": {
        "id": "-PhGHNzN4edD"
      },
      "outputs": [],
      "source": [
        "# data manipulation\n",
        "import pandas as pd\n",
        "import numpy as np\n",
        "\n",
        "# data visualization\n",
        "import matplotlib.pyplot as plt\n",
        "import seaborn as sns\n",
        "\n",
        "# data preprocessing\n",
        "from sklearn.preprocessing import StandardScaler, LabelEncoder, OneHotEncoder, OrdinalEncoder\n",
        "\n",
        "# validation\n",
        "from sklearn.model_selection import cross_val_score, cross_validate, StratifiedKFold, GridSearchCV\n",
        "\n",
        "\n",
        "# machine learning algorithms\n",
        "from sklearn.linear_model import LogisticRegression\n",
        "from sklearn.ensemble import RandomForestClassifier, AdaBoostClassifier\n",
        "from sklearn.svm import SVC\n",
        "from sklearn.neighbors import KNeighborsClassifier\n",
        "from xgboost import XGBClassifier\n",
        "\n",
        "# training and testing split\n",
        "from sklearn.model_selection import train_test_split\n",
        "\n",
        "# evaluation metrics\n",
        "from sklearn.metrics import accuracy_score, precision_score, recall_score, f1_score, confusion_matrix,roc_curve, roc_auc_score"
      ]
    },
    {
      "cell_type": "markdown",
      "source": [
        "## Data gathering\n",
        "\n",
        "The dataset that will be used was made available by the IBM Developer teaching platform and can be found at this [link](https://raw.githubusercontent.com/CaioLSouza/datasets/main/churn_dataset.csv) in ``csv format ``.\n",
        "\n",
        "It does not come with any description about it, but the names of the *features* are suggestive enough for a clear understanding of the meaning of the data."
      ],
      "metadata": {
        "id": "rVPSmW_aQCk7"
      }
    },
    {
      "cell_type": "code",
      "source": [
        "DATA_PATH = \"https://raw.githubusercontent.com/CaioLSouza/datasets/main/churn_dataset.csv\"\n",
        "churn = pd.read_csv(DATA_PATH)\n",
        "churn.head()"
      ],
      "metadata": {
        "colab": {
          "base_uri": "https://localhost:8080/",
          "height": 386
        },
        "id": "2AvBKPWiQA8t",
        "outputId": "f2df915a-f166-4054-8feb-eb86431d8575"
      },
      "execution_count": 2,
      "outputs": [
        {
          "output_type": "execute_result",
          "data": {
            "text/plain": [
              "   customerID  gender  SeniorCitizen Partner Dependents  tenure PhoneService  \\\n",
              "0  7590-VHVEG  Female              0     Yes         No       1           No   \n",
              "1  5575-GNVDE    Male              0      No         No      34          Yes   \n",
              "2  3668-QPYBK    Male              0      No         No       2          Yes   \n",
              "3  7795-CFOCW    Male              0      No         No      45           No   \n",
              "4  9237-HQITU  Female              0      No         No       2          Yes   \n",
              "\n",
              "      MultipleLines InternetService OnlineSecurity  ... DeviceProtection  \\\n",
              "0  No phone service             DSL             No  ...               No   \n",
              "1                No             DSL            Yes  ...              Yes   \n",
              "2                No             DSL            Yes  ...               No   \n",
              "3  No phone service             DSL            Yes  ...              Yes   \n",
              "4                No     Fiber optic             No  ...               No   \n",
              "\n",
              "  TechSupport StreamingTV StreamingMovies        Contract PaperlessBilling  \\\n",
              "0          No          No              No  Month-to-month              Yes   \n",
              "1          No          No              No        One year               No   \n",
              "2          No          No              No  Month-to-month              Yes   \n",
              "3         Yes          No              No        One year               No   \n",
              "4          No          No              No  Month-to-month              Yes   \n",
              "\n",
              "               PaymentMethod MonthlyCharges  TotalCharges Churn  \n",
              "0           Electronic check          29.85         29.85    No  \n",
              "1               Mailed check          56.95        1889.5    No  \n",
              "2               Mailed check          53.85        108.15   Yes  \n",
              "3  Bank transfer (automatic)          42.30       1840.75    No  \n",
              "4           Electronic check          70.70        151.65   Yes  \n",
              "\n",
              "[5 rows x 21 columns]"
            ],
            "text/html": [
              "\n",
              "  <div id=\"df-2122069b-948d-4400-8128-0dc91a1790e9\">\n",
              "    <div class=\"colab-df-container\">\n",
              "      <div>\n",
              "<style scoped>\n",
              "    .dataframe tbody tr th:only-of-type {\n",
              "        vertical-align: middle;\n",
              "    }\n",
              "\n",
              "    .dataframe tbody tr th {\n",
              "        vertical-align: top;\n",
              "    }\n",
              "\n",
              "    .dataframe thead th {\n",
              "        text-align: right;\n",
              "    }\n",
              "</style>\n",
              "<table border=\"1\" class=\"dataframe\">\n",
              "  <thead>\n",
              "    <tr style=\"text-align: right;\">\n",
              "      <th></th>\n",
              "      <th>customerID</th>\n",
              "      <th>gender</th>\n",
              "      <th>SeniorCitizen</th>\n",
              "      <th>Partner</th>\n",
              "      <th>Dependents</th>\n",
              "      <th>tenure</th>\n",
              "      <th>PhoneService</th>\n",
              "      <th>MultipleLines</th>\n",
              "      <th>InternetService</th>\n",
              "      <th>OnlineSecurity</th>\n",
              "      <th>...</th>\n",
              "      <th>DeviceProtection</th>\n",
              "      <th>TechSupport</th>\n",
              "      <th>StreamingTV</th>\n",
              "      <th>StreamingMovies</th>\n",
              "      <th>Contract</th>\n",
              "      <th>PaperlessBilling</th>\n",
              "      <th>PaymentMethod</th>\n",
              "      <th>MonthlyCharges</th>\n",
              "      <th>TotalCharges</th>\n",
              "      <th>Churn</th>\n",
              "    </tr>\n",
              "  </thead>\n",
              "  <tbody>\n",
              "    <tr>\n",
              "      <th>0</th>\n",
              "      <td>7590-VHVEG</td>\n",
              "      <td>Female</td>\n",
              "      <td>0</td>\n",
              "      <td>Yes</td>\n",
              "      <td>No</td>\n",
              "      <td>1</td>\n",
              "      <td>No</td>\n",
              "      <td>No phone service</td>\n",
              "      <td>DSL</td>\n",
              "      <td>No</td>\n",
              "      <td>...</td>\n",
              "      <td>No</td>\n",
              "      <td>No</td>\n",
              "      <td>No</td>\n",
              "      <td>No</td>\n",
              "      <td>Month-to-month</td>\n",
              "      <td>Yes</td>\n",
              "      <td>Electronic check</td>\n",
              "      <td>29.85</td>\n",
              "      <td>29.85</td>\n",
              "      <td>No</td>\n",
              "    </tr>\n",
              "    <tr>\n",
              "      <th>1</th>\n",
              "      <td>5575-GNVDE</td>\n",
              "      <td>Male</td>\n",
              "      <td>0</td>\n",
              "      <td>No</td>\n",
              "      <td>No</td>\n",
              "      <td>34</td>\n",
              "      <td>Yes</td>\n",
              "      <td>No</td>\n",
              "      <td>DSL</td>\n",
              "      <td>Yes</td>\n",
              "      <td>...</td>\n",
              "      <td>Yes</td>\n",
              "      <td>No</td>\n",
              "      <td>No</td>\n",
              "      <td>No</td>\n",
              "      <td>One year</td>\n",
              "      <td>No</td>\n",
              "      <td>Mailed check</td>\n",
              "      <td>56.95</td>\n",
              "      <td>1889.5</td>\n",
              "      <td>No</td>\n",
              "    </tr>\n",
              "    <tr>\n",
              "      <th>2</th>\n",
              "      <td>3668-QPYBK</td>\n",
              "      <td>Male</td>\n",
              "      <td>0</td>\n",
              "      <td>No</td>\n",
              "      <td>No</td>\n",
              "      <td>2</td>\n",
              "      <td>Yes</td>\n",
              "      <td>No</td>\n",
              "      <td>DSL</td>\n",
              "      <td>Yes</td>\n",
              "      <td>...</td>\n",
              "      <td>No</td>\n",
              "      <td>No</td>\n",
              "      <td>No</td>\n",
              "      <td>No</td>\n",
              "      <td>Month-to-month</td>\n",
              "      <td>Yes</td>\n",
              "      <td>Mailed check</td>\n",
              "      <td>53.85</td>\n",
              "      <td>108.15</td>\n",
              "      <td>Yes</td>\n",
              "    </tr>\n",
              "    <tr>\n",
              "      <th>3</th>\n",
              "      <td>7795-CFOCW</td>\n",
              "      <td>Male</td>\n",
              "      <td>0</td>\n",
              "      <td>No</td>\n",
              "      <td>No</td>\n",
              "      <td>45</td>\n",
              "      <td>No</td>\n",
              "      <td>No phone service</td>\n",
              "      <td>DSL</td>\n",
              "      <td>Yes</td>\n",
              "      <td>...</td>\n",
              "      <td>Yes</td>\n",
              "      <td>Yes</td>\n",
              "      <td>No</td>\n",
              "      <td>No</td>\n",
              "      <td>One year</td>\n",
              "      <td>No</td>\n",
              "      <td>Bank transfer (automatic)</td>\n",
              "      <td>42.30</td>\n",
              "      <td>1840.75</td>\n",
              "      <td>No</td>\n",
              "    </tr>\n",
              "    <tr>\n",
              "      <th>4</th>\n",
              "      <td>9237-HQITU</td>\n",
              "      <td>Female</td>\n",
              "      <td>0</td>\n",
              "      <td>No</td>\n",
              "      <td>No</td>\n",
              "      <td>2</td>\n",
              "      <td>Yes</td>\n",
              "      <td>No</td>\n",
              "      <td>Fiber optic</td>\n",
              "      <td>No</td>\n",
              "      <td>...</td>\n",
              "      <td>No</td>\n",
              "      <td>No</td>\n",
              "      <td>No</td>\n",
              "      <td>No</td>\n",
              "      <td>Month-to-month</td>\n",
              "      <td>Yes</td>\n",
              "      <td>Electronic check</td>\n",
              "      <td>70.70</td>\n",
              "      <td>151.65</td>\n",
              "      <td>Yes</td>\n",
              "    </tr>\n",
              "  </tbody>\n",
              "</table>\n",
              "<p>5 rows × 21 columns</p>\n",
              "</div>\n",
              "      <button class=\"colab-df-convert\" onclick=\"convertToInteractive('df-2122069b-948d-4400-8128-0dc91a1790e9')\"\n",
              "              title=\"Convert this dataframe to an interactive table.\"\n",
              "              style=\"display:none;\">\n",
              "        \n",
              "  <svg xmlns=\"http://www.w3.org/2000/svg\" height=\"24px\"viewBox=\"0 0 24 24\"\n",
              "       width=\"24px\">\n",
              "    <path d=\"M0 0h24v24H0V0z\" fill=\"none\"/>\n",
              "    <path d=\"M18.56 5.44l.94 2.06.94-2.06 2.06-.94-2.06-.94-.94-2.06-.94 2.06-2.06.94zm-11 1L8.5 8.5l.94-2.06 2.06-.94-2.06-.94L8.5 2.5l-.94 2.06-2.06.94zm10 10l.94 2.06.94-2.06 2.06-.94-2.06-.94-.94-2.06-.94 2.06-2.06.94z\"/><path d=\"M17.41 7.96l-1.37-1.37c-.4-.4-.92-.59-1.43-.59-.52 0-1.04.2-1.43.59L10.3 9.45l-7.72 7.72c-.78.78-.78 2.05 0 2.83L4 21.41c.39.39.9.59 1.41.59.51 0 1.02-.2 1.41-.59l7.78-7.78 2.81-2.81c.8-.78.8-2.07 0-2.86zM5.41 20L4 18.59l7.72-7.72 1.47 1.35L5.41 20z\"/>\n",
              "  </svg>\n",
              "      </button>\n",
              "      \n",
              "  <style>\n",
              "    .colab-df-container {\n",
              "      display:flex;\n",
              "      flex-wrap:wrap;\n",
              "      gap: 12px;\n",
              "    }\n",
              "\n",
              "    .colab-df-convert {\n",
              "      background-color: #E8F0FE;\n",
              "      border: none;\n",
              "      border-radius: 50%;\n",
              "      cursor: pointer;\n",
              "      display: none;\n",
              "      fill: #1967D2;\n",
              "      height: 32px;\n",
              "      padding: 0 0 0 0;\n",
              "      width: 32px;\n",
              "    }\n",
              "\n",
              "    .colab-df-convert:hover {\n",
              "      background-color: #E2EBFA;\n",
              "      box-shadow: 0px 1px 2px rgba(60, 64, 67, 0.3), 0px 1px 3px 1px rgba(60, 64, 67, 0.15);\n",
              "      fill: #174EA6;\n",
              "    }\n",
              "\n",
              "    [theme=dark] .colab-df-convert {\n",
              "      background-color: #3B4455;\n",
              "      fill: #D2E3FC;\n",
              "    }\n",
              "\n",
              "    [theme=dark] .colab-df-convert:hover {\n",
              "      background-color: #434B5C;\n",
              "      box-shadow: 0px 1px 3px 1px rgba(0, 0, 0, 0.15);\n",
              "      filter: drop-shadow(0px 1px 2px rgba(0, 0, 0, 0.3));\n",
              "      fill: #FFFFFF;\n",
              "    }\n",
              "  </style>\n",
              "\n",
              "      <script>\n",
              "        const buttonEl =\n",
              "          document.querySelector('#df-2122069b-948d-4400-8128-0dc91a1790e9 button.colab-df-convert');\n",
              "        buttonEl.style.display =\n",
              "          google.colab.kernel.accessAllowed ? 'block' : 'none';\n",
              "\n",
              "        async function convertToInteractive(key) {\n",
              "          const element = document.querySelector('#df-2122069b-948d-4400-8128-0dc91a1790e9');\n",
              "          const dataTable =\n",
              "            await google.colab.kernel.invokeFunction('convertToInteractive',\n",
              "                                                     [key], {});\n",
              "          if (!dataTable) return;\n",
              "\n",
              "          const docLinkHtml = 'Like what you see? Visit the ' +\n",
              "            '<a target=\"_blank\" href=https://colab.research.google.com/notebooks/data_table.ipynb>data table notebook</a>'\n",
              "            + ' to learn more about interactive tables.';\n",
              "          element.innerHTML = '';\n",
              "          dataTable['output_type'] = 'display_data';\n",
              "          await google.colab.output.renderOutput(dataTable, element);\n",
              "          const docLink = document.createElement('div');\n",
              "          docLink.innerHTML = docLinkHtml;\n",
              "          element.appendChild(docLink);\n",
              "        }\n",
              "      </script>\n",
              "    </div>\n",
              "  </div>\n",
              "  "
            ]
          },
          "metadata": {},
          "execution_count": 2
        }
      ]
    },
    {
      "cell_type": "code",
      "source": [
        "print(f\"Number of rows: {churn.shape[0]}\")\n",
        "print(f\"Number of features: {churn.shape[1]}\")"
      ],
      "metadata": {
        "colab": {
          "base_uri": "https://localhost:8080/"
        },
        "id": "9CT3P9pyQVHS",
        "outputId": "91416926-bfaa-48af-9e7b-077ac87cb9a9"
      },
      "execution_count": 3,
      "outputs": [
        {
          "output_type": "stream",
          "name": "stdout",
          "text": [
            "Number of rows: 7043\n",
            "Number of features: 21\n"
          ]
        }
      ]
    },
    {
      "cell_type": "code",
      "source": [
        "churn.columns"
      ],
      "metadata": {
        "colab": {
          "base_uri": "https://localhost:8080/"
        },
        "id": "Ep93MoQ_QW9z",
        "outputId": "6d1e276e-f878-4021-83f7-995391d66bcc"
      },
      "execution_count": 4,
      "outputs": [
        {
          "output_type": "execute_result",
          "data": {
            "text/plain": [
              "Index(['customerID', 'gender', 'SeniorCitizen', 'Partner', 'Dependents',\n",
              "       'tenure', 'PhoneService', 'MultipleLines', 'InternetService',\n",
              "       'OnlineSecurity', 'OnlineBackup', 'DeviceProtection', 'TechSupport',\n",
              "       'StreamingTV', 'StreamingMovies', 'Contract', 'PaperlessBilling',\n",
              "       'PaymentMethod', 'MonthlyCharges', 'TotalCharges', 'Churn'],\n",
              "      dtype='object')"
            ]
          },
          "metadata": {},
          "execution_count": 4
        }
      ]
    },
    {
      "cell_type": "markdown",
      "source": [
        "## Features dictionary\n",
        "\n",
        "``customerID``: Customer identification code.\n",
        "\n",
        "``gender``: Gender (male or female).\n",
        "\n",
        "``SeniorCitizen``: Whether the client is retired or not.\n",
        "\n",
        "``Partner``: Whether the client is a partner or not.\n",
        "\n",
        "``Dependents``: Whether the client has dependents or not.\n",
        "\n",
        "``tenure``: Number of months the customer has been with the company.\n",
        "\n",
        "``PhoneService``: Whether the client has phone services or not.\n",
        "\n",
        "``MultipleLines``: Whether the client has multiple lines or not.\n",
        "\n",
        "``InternetServices``: What type of internet service the client has.\n",
        "\n",
        "``OnlineSecurity``: Whether the client has online security or not.\n",
        "\n",
        "``OnlineBackup``: Whether the client has online backup or not\n",
        "\n",
        "``DeviceProtection``: Whether the client has a protection device or not.\n",
        "\n",
        "``TechSupport``: Whether the customer has technological support or not.\n",
        "\n",
        "``StreamingTV``: Whether the client has streaming TV service or not.\n",
        "\n",
        "``StreamingMovies``: Whether the client has movie streaming service or not.\n",
        "\n",
        "``Contract``: Contract signing time.\n",
        "\n",
        "``PaperlessBilling``: Whether the bill for the customer to pay is online or not.\n",
        "\n",
        "``PaymentMethod``: Payment method\n",
        "\n",
        "``MonthlyCharges``: Monthly payment\n",
        "\n",
        "``TotalCharges``: Total payment (product between ``MonthlyCharges`` and ``Tenure``)\n",
        "\n",
        "``Churn``: Whehter there was or was not churn (target variable)"
      ],
      "metadata": {
        "id": "f2yo_eYeQf-b"
      }
    },
    {
      "cell_type": "markdown",
      "source": [
        "As you can see, the vast majority of variables are categorical. Only ``tenure``, ``MonthlyCharges`` and ``TotalCharges`` are numeric variables."
      ],
      "metadata": {
        "id": "Z6qbM4UORACZ"
      }
    },
    {
      "cell_type": "markdown",
      "source": [
        "## Functions used in this project"
      ],
      "metadata": {
        "id": "REt-AkIjRCU5"
      }
    },
    {
      "cell_type": "code",
      "source": [
        "def classification_features(dataset, target):\n",
        "  ''' classify the features as binary and categorical, categorical or numerical '''\n",
        "  bin_var = []\n",
        "  cat_var = []\n",
        "  num_var = []\n",
        "  for col in dataset: \n",
        "    if dataset[col].nunique() == 2 and col != target:\n",
        "      bin_var.append(col)\n",
        "    if dataset[col].dtype == 'float64' or dataset[col].dtype == 'int64' and col not in bin_var and col != target:\n",
        "      num_var.append(col)\n",
        "    if dataset[col].dtype == 'object' and col not in bin_var and col != target:\n",
        "      cat_var.append(col)\n",
        "  return bin_var, cat_var, num_var"
      ],
      "metadata": {
        "id": "_NaYtSV1QYVX"
      },
      "execution_count": 5,
      "outputs": []
    },
    {
      "cell_type": "code",
      "source": [
        "def metrics(y_test, preds):\n",
        "  ''' show the following metrics: accuracy, recall, precision and f1_score '''\n",
        "  print('Accuracy: ', accuracy_score(y_test, preds))\n",
        "  print('Recall: ', recall_score(y_test, preds))\n",
        "  print('Precision: ', precision_score(y_test, preds))\n",
        "  print('F1-score: ', f1_score(y_test, preds))"
      ],
      "metadata": {
        "id": "VgaamO2JRTdB"
      },
      "execution_count": 6,
      "outputs": []
    },
    {
      "cell_type": "code",
      "source": [
        "def get_metrics(cross_validation):\n",
        "  ''' show metrics obtained by cross validation '''\n",
        "  for key, value in cross_validation.items():\n",
        "    print(key, np.mean(value))"
      ],
      "metadata": {
        "id": "PBBdWOBtReSj"
      },
      "execution_count": 7,
      "outputs": []
    },
    {
      "cell_type": "code",
      "source": [
        "def plot_confusion_matrix(y_test, preds):\n",
        "  ''' creates a plot with the confusion matrix '''\n",
        "  matrix = confusion_matrix(y_test, preds)\n",
        "  fig, ax = plt.subplots(figsize=(8, 5))\n",
        "  sns.heatmap(matrix, annot=True, cmap='viridis', fmt='d')\n",
        "  ax.set_title('Matriz de confusão para o XGBoost')\n",
        "  ax.set_xlabel('Previsto')\n",
        "  ax.set_ylabel('Observado')\n",
        "  plt.tight_layout()"
      ],
      "metadata": {
        "id": "zoz0gmPqRnXj"
      },
      "execution_count": 8,
      "outputs": []
    },
    {
      "cell_type": "code",
      "source": [
        "def business_metrics(y_test, preds, dataset, monthly_charges):\n",
        "  '''Computes business metrics related to the potencial monetary gain of the model'''\n",
        "  churn_rate = len(y_test[y_test == 1]) / len(y_test)\n",
        "\n",
        "  predicted_churn_rate = len(preds[preds == 1]) / len(preds)\n",
        "\n",
        "  recall = recall_score(y_test, preds)\n",
        "\n",
        "  correct_positive_predictions = len(preds[(preds[preds == 1]) & (preds == y_test)]) / len(y_test)\n",
        "\n",
        "  positive_correct = preds[(preds == 1) & (preds == y_test)]\n",
        "  positive_correct = pd.Series(positive_correct, index=y_test.index)\n",
        "  mrr = dataset.loc[positive_correct.index]\n",
        "  anual_mrr = mrr[monthly_charges].mean() * 12\n",
        "\n",
        "  summary = pd.Series([\n",
        "      churn_rate, \n",
        "      predicted_churn_rate,\n",
        "      recall,\n",
        "      correct_positive_predictions,\n",
        "      anual_mrr\n",
        "  ],\n",
        "  index = [\n",
        "      'Churn rate', \n",
        "      'Predicted churn rate',\n",
        "      'Recall' ,\n",
        "      'Corrected predicted churns', \n",
        "      'Yearly MRR churn by client'\n",
        "  ])\n",
        "  \n",
        "  return summary"
      ],
      "metadata": {
        "id": "XqJuRVj6RsLT"
      },
      "execution_count": 9,
      "outputs": []
    },
    {
      "cell_type": "markdown",
      "source": [
        "## Exploratory data analysis\n",
        "\n",
        "Let's start by doing an exploratory analysis of the available data."
      ],
      "metadata": {
        "id": "OkE4pJ6ISMau"
      }
    },
    {
      "cell_type": "markdown",
      "source": [
        "### Missing values\n",
        "\n",
        "First, let's check the amount of missing values ​​inside the variables."
      ],
      "metadata": {
        "id": "VkomUOpKSTuR"
      }
    },
    {
      "cell_type": "code",
      "source": [
        "churn.isnull().sum()"
      ],
      "metadata": {
        "colab": {
          "base_uri": "https://localhost:8080/"
        },
        "id": "gUdo-DQSSTFL",
        "outputId": "d938789d-fafc-4143-e01e-4d295bd9decc"
      },
      "execution_count": 10,
      "outputs": [
        {
          "output_type": "execute_result",
          "data": {
            "text/plain": [
              "customerID          0\n",
              "gender              0\n",
              "SeniorCitizen       0\n",
              "Partner             0\n",
              "Dependents          0\n",
              "tenure              0\n",
              "PhoneService        0\n",
              "MultipleLines       0\n",
              "InternetService     0\n",
              "OnlineSecurity      0\n",
              "OnlineBackup        0\n",
              "DeviceProtection    0\n",
              "TechSupport         0\n",
              "StreamingTV         0\n",
              "StreamingMovies     0\n",
              "Contract            0\n",
              "PaperlessBilling    0\n",
              "PaymentMethod       0\n",
              "MonthlyCharges      0\n",
              "TotalCharges        0\n",
              "Churn               0\n",
              "dtype: int64"
            ]
          },
          "metadata": {},
          "execution_count": 10
        }
      ]
    },
    {
      "cell_type": "markdown",
      "source": [
        "\n",
        "Apparently, there are no missing values ​​within the dataset."
      ],
      "metadata": {
        "id": "kVO-lQxiSbrK"
      }
    },
    {
      "cell_type": "markdown",
      "source": [
        "### Variable types"
      ],
      "metadata": {
        "id": "br0lpsVPSeM7"
      }
    },
    {
      "cell_type": "code",
      "source": [
        "churn.dtypes"
      ],
      "metadata": {
        "colab": {
          "base_uri": "https://localhost:8080/"
        },
        "id": "b_n03SKUSYPJ",
        "outputId": "3c60fc0a-fae3-408e-bc6f-b12708006984"
      },
      "execution_count": 11,
      "outputs": [
        {
          "output_type": "execute_result",
          "data": {
            "text/plain": [
              "customerID           object\n",
              "gender               object\n",
              "SeniorCitizen         int64\n",
              "Partner              object\n",
              "Dependents           object\n",
              "tenure                int64\n",
              "PhoneService         object\n",
              "MultipleLines        object\n",
              "InternetService      object\n",
              "OnlineSecurity       object\n",
              "OnlineBackup         object\n",
              "DeviceProtection     object\n",
              "TechSupport          object\n",
              "StreamingTV          object\n",
              "StreamingMovies      object\n",
              "Contract             object\n",
              "PaperlessBilling     object\n",
              "PaymentMethod        object\n",
              "MonthlyCharges      float64\n",
              "TotalCharges         object\n",
              "Churn                object\n",
              "dtype: object"
            ]
          },
          "metadata": {},
          "execution_count": 11
        }
      ]
    },
    {
      "cell_type": "markdown",
      "source": [
        "The most striking thing here is the ``TotalCharges`` variable, which is a numeric variable, but whose data type is listed as categorical (object). So it's natural to think about turning it into numeric. However, when we do this, we get an error, as there is information inside that variable that is only marked with two quotation marks (\" \").\n"
      ],
      "metadata": {
        "id": "08RM7G8VSqCg"
      }
    },
    {
      "cell_type": "code",
      "source": [
        "len(churn['TotalCharges'].loc[churn['TotalCharges'] == ' '])"
      ],
      "metadata": {
        "colab": {
          "base_uri": "https://localhost:8080/"
        },
        "id": "zw7i6iToSmns",
        "outputId": "f41b9ab8-4c52-47d3-f4ef-a55c698c3e90"
      },
      "execution_count": 12,
      "outputs": [
        {
          "output_type": "execute_result",
          "data": {
            "text/plain": [
              "11"
            ]
          },
          "metadata": {},
          "execution_count": 12
        }
      ]
    },
    {
      "cell_type": "markdown",
      "source": [
        "What happened was that the missing values ​​of this variable were marked with double quotes to indicate them. So let's replace these values ​​with missing values ​​so we can turn the variable back to numeric.\n"
      ],
      "metadata": {
        "id": "1V1Ujx5ShIku"
      }
    },
    {
      "cell_type": "code",
      "source": [
        "churn['TotalCharges'].replace(' ', 'NaN', inplace=True)"
      ],
      "metadata": {
        "id": "HVivK-0phIFz"
      },
      "execution_count": 13,
      "outputs": []
    },
    {
      "cell_type": "code",
      "source": [
        "churn['TotalCharges'].isnull().sum()"
      ],
      "metadata": {
        "colab": {
          "base_uri": "https://localhost:8080/"
        },
        "id": "s8orq7ALhjPy",
        "outputId": "3a1d09af-f0ad-47dd-833d-60119ca732c5"
      },
      "execution_count": 14,
      "outputs": [
        {
          "output_type": "execute_result",
          "data": {
            "text/plain": [
              "0"
            ]
          },
          "metadata": {},
          "execution_count": 14
        }
      ]
    },
    {
      "cell_type": "code",
      "source": [
        "churn['TotalCharges'] = churn['TotalCharges'].astype(float)"
      ],
      "metadata": {
        "id": "vZ2s6I6shlPd"
      },
      "execution_count": 15,
      "outputs": []
    },
    {
      "cell_type": "markdown",
      "source": [
        "In addition to the division between categorical and numerical variables, the subdivision between binary and non-binary categorical variables is also important. Thus, for the variables below, those that have only two distinct values ​​as unique values ​​are binary variables.\n"
      ],
      "metadata": {
        "id": "n35GM_ADhqdl"
      }
    },
    {
      "cell_type": "code",
      "source": [
        "churn.nunique()"
      ],
      "metadata": {
        "colab": {
          "base_uri": "https://localhost:8080/"
        },
        "id": "IxDE8i5ShmpD",
        "outputId": "94b0d984-06f4-49ae-9e43-6d61bfb740f6"
      },
      "execution_count": 16,
      "outputs": [
        {
          "output_type": "execute_result",
          "data": {
            "text/plain": [
              "customerID          7043\n",
              "gender                 2\n",
              "SeniorCitizen          2\n",
              "Partner                2\n",
              "Dependents             2\n",
              "tenure                73\n",
              "PhoneService           2\n",
              "MultipleLines          3\n",
              "InternetService        3\n",
              "OnlineSecurity         3\n",
              "OnlineBackup           3\n",
              "DeviceProtection       3\n",
              "TechSupport            3\n",
              "StreamingTV            3\n",
              "StreamingMovies        3\n",
              "Contract               3\n",
              "PaperlessBilling       2\n",
              "PaymentMethod          4\n",
              "MonthlyCharges      1585\n",
              "TotalCharges        6530\n",
              "Churn                  2\n",
              "dtype: int64"
            ]
          },
          "metadata": {},
          "execution_count": 16
        }
      ]
    },
    {
      "cell_type": "markdown",
      "source": [
        "### Variável-alvo\n",
        "\n",
        "A variável que estamos tentando prever nesse conjunto de dados é a variável ``Churn``."
      ],
      "metadata": {
        "id": "UZBHpu2_hxrk"
      }
    },
    {
      "cell_type": "code",
      "source": [
        "churn['Churn'].unique()"
      ],
      "metadata": {
        "colab": {
          "base_uri": "https://localhost:8080/"
        },
        "id": "o1vfBmPnhwrN",
        "outputId": "f9566194-d483-45d2-e231-6fcc534a118f"
      },
      "execution_count": 17,
      "outputs": [
        {
          "output_type": "execute_result",
          "data": {
            "text/plain": [
              "array(['No', 'Yes'], dtype=object)"
            ]
          },
          "metadata": {},
          "execution_count": 17
        }
      ]
    },
    {
      "cell_type": "markdown",
      "source": [
        "It is, as already seen, a binary categorical variable. It will be useful\n",
        "store in different variables the values ​​for each different class."
      ],
      "metadata": {
        "id": "JW7Q5wBah4kn"
      }
    },
    {
      "cell_type": "code",
      "source": [
        "class_0 = churn.loc[churn['Churn'] == 'No']\n",
        "class_1 = churn.loc[churn['Churn'] == 'Yes']"
      ],
      "metadata": {
        "id": "0kqm6Z0ih05I"
      },
      "execution_count": 18,
      "outputs": []
    },
    {
      "cell_type": "markdown",
      "source": [
        "Vamos agora analisar o balanceamento dos dados."
      ],
      "metadata": {
        "id": "TRRVkTsJh-oq"
      }
    },
    {
      "cell_type": "code",
      "source": [
        "print(f\"Percentage of positive class values: {len(churn['Churn'].loc[churn['Churn'] == 'Yes']) / len(churn['Churn'])}\")\n",
        "print(f\"Percentage of negative class values: { 1 - len(churn['Churn'].loc[churn['Churn'] == 'Yes']) / len(churn['Churn'])}\")"
      ],
      "metadata": {
        "colab": {
          "base_uri": "https://localhost:8080/"
        },
        "id": "j1mjcZurh72t",
        "outputId": "4726603a-5f15-4735-918f-c2e091be47dc"
      },
      "execution_count": 19,
      "outputs": [
        {
          "output_type": "stream",
          "name": "stdout",
          "text": [
            "Percentage of positive class values: 0.2653698707936959\n",
            "Percentage of negative class values: 0.7346301292063041\n"
          ]
        }
      ]
    },
    {
      "cell_type": "code",
      "source": [
        "sns.countplot(x=churn['Churn'])\n",
        "plt.tight_layout()"
      ],
      "metadata": {
        "colab": {
          "base_uri": "https://localhost:8080/",
          "height": 297
        },
        "id": "sQ06mmpTh9ab",
        "outputId": "0c4ed929-d713-47da-b25a-98b1c4dacc46"
      },
      "execution_count": 20,
      "outputs": [
        {
          "output_type": "display_data",
          "data": {
            "text/plain": [
              "<Figure size 432x288 with 1 Axes>"
            ],
            "image/png": "[encoded data removed]"
          },
          "metadata": {
            "needs_background": "light"
          }
        }
      ]
    },
    {
      "cell_type": "markdown",
      "source": [
        "As one might intuitively expect, most of the data correspond to the negative class, that is, people who did not cancel their service. This imbalance can be dealt with in more depth during the construction of the model itself.\n"
      ],
      "metadata": {
        "id": "dSK0VAc_iZhO"
      }
    },
    {
      "cell_type": "markdown",
      "source": [
        "### Frequency distributions\n",
        "\n",
        "In this step, we can start by analyzing the distribution of the two continuous numerical variables of the dataset: ``TotalCharges`` and ``MonthlyCharges``, respectively. Let's also compare the histograms for the data where there is no churn with the data where there is churn."
      ],
      "metadata": {
        "id": "RsU8hDHricko"
      }
    },
    {
      "cell_type": "code",
      "source": [
        "fig, ax = plt.subplots(nrows=2, ncols=1, figsize=(9, 5))\n",
        "\n",
        "\n",
        "\n",
        "ax[0].hist(class_0['TotalCharges'], bins=50)\n",
        "ax[0].set_title('Total Charges histogram without churn')\n",
        "\n",
        "ax[1].hist(class_1['TotalCharges'], bins=50)\n",
        "ax[1].set_title('Total Charges histogram with churn')\n",
        "\n",
        "\n",
        "plt.tight_layout()"
      ],
      "metadata": {
        "colab": {
          "base_uri": "https://localhost:8080/",
          "height": 369
        },
        "id": "CSuR28qniW-C",
        "outputId": "c5b50aa4-e5b6-42f1-b22b-0bd83d5a60a3"
      },
      "execution_count": 21,
      "outputs": [
        {
          "output_type": "display_data",
          "data": {
            "text/plain": [
              "<Figure size 648x360 with 2 Axes>"
            ],
            "image/png": "[encoded data removed]"
          },
          "metadata": {
            "needs_background": "light"
          }
        }
      ]
    },
    {
      "cell_type": "code",
      "source": [
        "fig, ax = plt.subplots(nrows=2, ncols=1, figsize=(9, 5))\n",
        "\n",
        "ax[0].hist(class_0['MonthlyCharges'], bins=50)\n",
        "ax[0].set_title('Monthly Charges histogram without Churn')\n",
        "\n",
        "ax[1].hist(class_1['MonthlyCharges'], bins=50)\n",
        "ax[1].set_title('Monthly Charges histogram with churn')\n",
        "\n",
        "\n",
        "\n",
        "plt.tight_layout()"
      ],
      "metadata": {
        "colab": {
          "base_uri": "https://localhost:8080/",
          "height": 369
        },
        "id": "8oqHxnASinyy",
        "outputId": "632972bf-a96e-4155-ab5e-0f67b084de4f"
      },
      "execution_count": 22,
      "outputs": [
        {
          "output_type": "display_data",
          "data": {
            "text/plain": [
              "<Figure size 648x360 with 2 Axes>"
            ],
            "image/png": "[encoded data removed]"
          },
          "metadata": {
            "needs_background": "light"
          }
        }
      ]
    },
    {
      "cell_type": "code",
      "source": [
        "fig, ax = plt.subplots(nrows=2, ncols=1, figsize=(9, 5))\n",
        "\n",
        "ax[0].hist(class_0['MonthlyCharges'], bins=50)\n",
        "ax[0].set_title('Histograma para Monthly Charges sem Churn')\n",
        "\n",
        "ax[1].hist(class_1['MonthlyCharges'], bins=50)\n",
        "ax[1].set_title('Histograma para Monthly Charges com churn')\n",
        "\n",
        "\n",
        "\n",
        "plt.tight_layout()"
      ],
      "metadata": {
        "id": "Jo4gb2R_jAJf",
        "colab": {
          "base_uri": "https://localhost:8080/",
          "height": 369
        },
        "outputId": "cdfb89aa-41d0-4bbd-c0f0-3537e540cbc3"
      },
      "execution_count": 23,
      "outputs": [
        {
          "output_type": "display_data",
          "data": {
            "text/plain": [
              "<Figure size 648x360 with 2 Axes>"
            ],
            "image/png": "[encoded data removed]"
          },
          "metadata": {
            "needs_background": "light"
          }
        }
      ]
    },
    {
      "cell_type": "markdown",
      "source": [
        "* The histograms for the ``TotalCharges`` variable show a close to Pareto distribution. For ``MonthlyCharges`` we have a much less ordered distribution of frequencies, in addition to a clear difference between the observations with and without churn. As the graph indicates, churn observations are relatively more common when there is a higher monthly bill.\n",
        "\n",
        "\n",
        "\n",
        "* Now, let's analyze these differences with a boxplot."
      ],
      "metadata": {
        "id": "7nWt8KzwjGL2"
      }
    },
    {
      "cell_type": "code",
      "source": [
        "fig, ax = plt.subplots(figsize=(6, 4), sharex=True)\n",
        "sns.boxplot(x= churn['Churn'], y=churn['TotalCharges'], ax=ax)\n",
        "plt.tight_layout()"
      ],
      "metadata": {
        "colab": {
          "base_uri": "https://localhost:8080/",
          "height": 297
        },
        "id": "5JIUIOMHjH92",
        "outputId": "8f704a15-8617-4a87-8660-822170b76faf"
      },
      "execution_count": 24,
      "outputs": [
        {
          "output_type": "display_data",
          "data": {
            "text/plain": [
              "<Figure size 432x288 with 1 Axes>"
            ],
            "image/png": "[encoded data removed]"
          },
          "metadata": {
            "needs_background": "light"
          }
        }
      ]
    },
    {
      "cell_type": "code",
      "source": [
        "fig, ax = plt.subplots(figsize=(6, 4), sharex=True)\n",
        "sns.boxplot(x=churn['Churn'], y=churn['MonthlyCharges'], ax=ax)\n",
        "plt.tight_layout()"
      ],
      "metadata": {
        "colab": {
          "base_uri": "https://localhost:8080/",
          "height": 297
        },
        "id": "O6Co-KuojJnw",
        "outputId": "c7653d70-cfc3-4394-cba2-1ed469c96f9c"
      },
      "execution_count": 25,
      "outputs": [
        {
          "output_type": "display_data",
          "data": {
            "text/plain": [
              "<Figure size 432x288 with 1 Axes>"
            ],
            "image/png": "[encoded data removed]"
          },
          "metadata": {
            "needs_background": "light"
          }
        }
      ]
    },
    {
      "cell_type": "markdown",
      "source": [
        "* ``TotalCharges``\n",
        "\n",
        "  * The median of observations without churn is greater than those with churn\n",
        "  * There is a greater presence of outliers in observations with churn.\n",
        "\n",
        "* ``MonthlyCharges``\n",
        "\n",
        "  * The median of churn observations tends to be higher.\n",
        "\n",
        "\n",
        "What explains this discrepancy between the medians? One hypothesis would be that people with more expensive monthly subscriptions tend to subscribe for less time, making the total payment of people who did not have churn to be, on average, higher."
      ],
      "metadata": {
        "id": "JVvVufJNjQRZ"
      }
    },
    {
      "cell_type": "markdown",
      "source": [
        "### What is the influence of gender on the occurrence of *churn*?\n",
        "\n",
        "A reasonable question to ask is whether men or women are more likely to opt out of that telecommunications company. To verify this, we must first analyze how the two genders are distributed in the dataset. After that, we can compare this to how the genders are distributed for those observations where *churn* occurs."
      ],
      "metadata": {
        "id": "Rqx8AIMajVVu"
      }
    },
    {
      "cell_type": "code",
      "source": [
        "fig, ax = plt.subplots(figsize=(7, 4))\n",
        "sns.countplot(data=churn, x='gender')\n",
        "plt.tight_layout()\n",
        "\n",
        "ax.set_title('Total amount of men and women')\n",
        "\n",
        "print(f\"The proportion of men is: {len(churn['gender'].loc[churn['gender'] == 'Male']) / len(churn['gender'])}\")\n",
        "print(f\"A proporção de women is: {len(churn.loc[churn['gender'] == 'Female']) / len(churn)}\")"
      ],
      "metadata": {
        "colab": {
          "base_uri": "https://localhost:8080/",
          "height": 350
        },
        "id": "Reoa7Gb4jQwn",
        "outputId": "7eda1e39-17f7-4924-80d8-4da652408d44"
      },
      "execution_count": 26,
      "outputs": [
        {
          "output_type": "stream",
          "name": "stdout",
          "text": [
            "The proportion of men is: 0.504756495811444\n",
            "A proporção de women is: 0.495243504188556\n"
          ]
        },
        {
          "output_type": "display_data",
          "data": {
            "text/plain": [
              "<Figure size 504x288 with 1 Axes>"
            ],
            "image/png": "[encoded data removed]"
          },
          "metadata": {
            "needs_background": "light"
          }
        }
      ]
    },
    {
      "cell_type": "code",
      "source": [
        "fig, ax = plt.subplots(figsize=(7, 4))\n",
        "sns.countplot(data=churn.loc[churn['Churn'] == 'Yes'], x='gender')\n",
        "\n",
        "plt.tight_layout()\n",
        "\n",
        "ax.set_title('Total amount of men and women where there was churn')\n",
        "\n",
        "print(f\"The proportion of men is: {len(churn['gender'].loc[(churn['gender'] == 'Male') & (churn['Churn'] == 'Yes')]) / len(churn['gender'].loc[churn['Churn'] == 'Yes'])}\")\n",
        "print(f\"The proportion of women is: {len(churn.loc[(churn['gender'] == 'Female') & (churn['Churn'] == 'Yes')]) / len(churn.loc[churn['Churn'] == 'Yes'])}\")"
      ],
      "metadata": {
        "colab": {
          "base_uri": "https://localhost:8080/",
          "height": 350
        },
        "id": "hrVoSmmkjX79",
        "outputId": "c5944311-2c39-4f17-9b99-cb650fee7964"
      },
      "execution_count": 27,
      "outputs": [
        {
          "output_type": "stream",
          "name": "stdout",
          "text": [
            "The proportion of men is: 0.49759229534510435\n",
            "The proportion of women is: 0.5024077046548957\n"
          ]
        },
        {
          "output_type": "display_data",
          "data": {
            "text/plain": [
              "<Figure size 504x288 with 1 Axes>"
            ],
            "image/png": "[encoded data removed]"
          },
          "metadata": {
            "needs_background": "light"
          }
        }
      ]
    },
    {
      "cell_type": "markdown",
      "source": [
        "The results show us that, among the observations in which there was *churn*, there is not a significantly greater predominance of men or women."
      ],
      "metadata": {
        "id": "uzxDX7tRkZM3"
      }
    },
    {
      "cell_type": "markdown",
      "source": [
        "### Do \"partner\" customers have a lower occurrence of *churn*?\n",
        "\n",
        "Let's apply the same procedure for gender, but now we'll use the variable ``Partner`` to compare the *churn* rate between partners and non-partners of the company."
      ],
      "metadata": {
        "id": "oxiK1vUAkdFA"
      }
    },
    {
      "cell_type": "code",
      "source": [
        "fig, ax = plt.subplots(figsize=(7, 4))\n",
        "ax.set_title('Total amount of partners and non-partners of the company')\n",
        "sns.countplot(data=churn, x='Partner')\n",
        "plt.tight_layout()\n",
        "\n",
        "print(f\"The poroportion of partners is: {len(churn.loc[churn['Partner'] == 'Yes']) / len(churn['gender'])}\")\n",
        "print(f\"The proportion of non-partners is: {len(churn.loc[churn['Partner'] == 'No']) / len(churn)}\")"
      ],
      "metadata": {
        "colab": {
          "base_uri": "https://localhost:8080/",
          "height": 334
        },
        "id": "iqF4MUHxkUG-",
        "outputId": "0cd088a7-3f5b-451e-fef6-848ef1c36c5e"
      },
      "execution_count": 28,
      "outputs": [
        {
          "output_type": "stream",
          "name": "stdout",
          "text": [
            "The poroportion of partners is: 0.4830327985233565\n",
            "The proportion of non-partners is: 0.5169672014766434\n"
          ]
        },
        {
          "output_type": "display_data",
          "data": {
            "text/plain": [
              "<Figure size 504x288 with 1 Axes>"
            ],
            "image/png": "[encoded data removed]"
          },
          "metadata": {
            "needs_background": "light"
          }
        }
      ]
    },
    {
      "cell_type": "code",
      "source": [
        "fig, ax = plt.subplots(figsize=(7, 4))\n",
        "sns.countplot(data=(churn.loc[churn['Churn'] == 'Yes']), x='Partner')\n",
        "ax.set_title('Total amount of partner where there was churn')\n",
        "plt.tight_layout()\n",
        "\n",
        "print(f\"The proportion of partners is: {len(churn.loc[(churn['Partner'] == 'Yes') & (churn['Churn'] == 'Yes')]) / len(churn.loc[churn['Churn'] == 'Yes'])}\")\n",
        "print(f\"The proportion of non-partners is: {len(churn.loc[(churn['Partner'] == 'No') & (churn['Churn'] == 'Yes')]) / len(churn.loc[churn['Churn'] == 'Yes'])}\")"
      ],
      "metadata": {
        "colab": {
          "base_uri": "https://localhost:8080/",
          "height": 334
        },
        "id": "Ut34wahokhGA",
        "outputId": "2a210f55-2128-46a6-9dc1-0145eb9ef983"
      },
      "execution_count": 29,
      "outputs": [
        {
          "output_type": "stream",
          "name": "stdout",
          "text": [
            "The proportion of partners is: 0.3579454253611557\n",
            "The proportion of non-partners is: 0.6420545746388443\n"
          ]
        },
        {
          "output_type": "display_data",
          "data": {
            "text/plain": [
              "<Figure size 504x288 with 1 Axes>"
            ],
            "image/png": "[encoded data removed]"
          },
          "metadata": {
            "needs_background": "light"
          }
        }
      ]
    },
    {
      "cell_type": "markdown",
      "source": [
        "In this case we see a very different scenario. The data indicate that the *churn* rate of members is significantly lower than that of non-members. Therefore, we have an indication that a way for the company to keep its customers and avoid churns is to increase its partner base."
      ],
      "metadata": {
        "id": "ZocUARIclKa4"
      }
    },
    {
      "cell_type": "markdown",
      "source": [
        "### Do customers with longer contracts tend to cancel less?\n",
        "\n",
        "Let's apply the same procedure again, but this time to the ``Contract`` variable."
      ],
      "metadata": {
        "id": "OhjQbr7YlKg8"
      }
    },
    {
      "cell_type": "code",
      "source": [
        "fig, ax = plt.subplots(figsize=(7, 4))\n",
        "sns.countplot(data=churn, x='Contract')\n",
        "ax.set_title('Total amount of partner where there was no churn')\n",
        "plt.tight_layout()"
      ],
      "metadata": {
        "colab": {
          "base_uri": "https://localhost:8080/",
          "height": 297
        },
        "id": "G4NPpnKhlRvV",
        "outputId": "0f784f16-39ca-43c1-9dc9-70e96e84027e"
      },
      "execution_count": 30,
      "outputs": [
        {
          "output_type": "display_data",
          "data": {
            "text/plain": [
              "<Figure size 504x288 with 1 Axes>"
            ],
            "image/png": "[encoded data removed]"
          },
          "metadata": {
            "needs_background": "light"
          }
        }
      ]
    },
    {
      "cell_type": "code",
      "source": [
        "fig, ax = plt.subplots(figsize=(7, 4))\n",
        "sns.countplot(data=churn[churn['Churn'] == 'Yes'], x='Contract')\n",
        "ax.set_title('Total amount of partner where there was no churn')\n",
        "plt.tight_layout()"
      ],
      "metadata": {
        "colab": {
          "base_uri": "https://localhost:8080/",
          "height": 297
        },
        "id": "Q7YRfQqPmAye",
        "outputId": "d96eeecf-d66b-486a-d030-3f14d5de4e89"
      },
      "execution_count": 31,
      "outputs": [
        {
          "output_type": "display_data",
          "data": {
            "text/plain": [
              "<Figure size 504x288 with 1 Axes>"
            ],
            "image/png": "[encoded data removed]"
          },
          "metadata": {
            "needs_background": "light"
          }
        }
      ]
    },
    {
      "cell_type": "markdown",
      "source": [
        "The plots show that there is a tendency for more *churns* to occur in users with monthly contracts, as opposed to longer contracts (one year and two years)."
      ],
      "metadata": {
        "id": "jVJOMg3RmKkt"
      }
    },
    {
      "cell_type": "markdown",
      "source": [
        "## Data pre-processing\n",
        "\n",
        "The next step is to pre-process the data so that it can be used by machine learning models.\n",
        "\n",
        "* Clearly define the values ​​of the target variable.\n",
        "\n",
        "* Deal with missing data (as already seen, they exist in the ``TotalCharges`` variable)\n",
        "\n",
        "* Transform categorical variables into numerical ones. The binary ones will be transformed by the *label encoder* method, while the *one hot encoder* will be used in the non-binary ones.\n",
        "\n",
        "* Standardize the data.\n",
        "\n",
        "* Remove unnecessary variables."
      ],
      "metadata": {
        "id": "vOtesUK0mUC3"
      }
    },
    {
      "cell_type": "markdown",
      "source": [
        "### Defining the target variable\n",
        "\n",
        "The target variable is binary, that is, it represents the occurrence or not of *churn*. Therefore, we will define it as follows:\n",
        "\n",
        "* If there was *churn*, then its value is equal to 1.\n",
        "\n",
        "* Otherwise, it is set equal to 0."
      ],
      "metadata": {
        "id": "5NOpJUpRmX2n"
      }
    },
    {
      "cell_type": "code",
      "source": [
        "churn['Churn'] = np.where(churn['Churn'] == 'Yes', 1, 0)"
      ],
      "metadata": {
        "id": "zwCEln4rmFgC"
      },
      "execution_count": 32,
      "outputs": []
    },
    {
      "cell_type": "markdown",
      "source": [
        "\n",
        "### Removing variables\n",
        "\n",
        "The ``customerID`` column does not have any relevant information, it just informs the customer identification code. So let's remove it."
      ],
      "metadata": {
        "id": "XAtLn8kOmchd"
      }
    },
    {
      "cell_type": "code",
      "source": [
        "churn = churn.drop('customerID', axis=1)"
      ],
      "metadata": {
        "id": "N2Ih1JoVmg9h"
      },
      "execution_count": 33,
      "outputs": []
    },
    {
      "cell_type": "markdown",
      "source": [
        "### Removing missing values\n",
        "\n",
        "We have, as already seen, 11 missing values ​​in the data set. Let's remove these entries."
      ],
      "metadata": {
        "id": "fR8OxayomqxW"
      }
    },
    {
      "cell_type": "code",
      "source": [
        "churn = churn.dropna(axis=0)"
      ],
      "metadata": {
        "id": "Z_xPkPHhmmmt"
      },
      "execution_count": 34,
      "outputs": []
    },
    {
      "cell_type": "markdown",
      "source": [
        "### Feature engineering\n",
        "\n",
        "Changes made to the data need to be made depending on the types of variables we have in that dataset. Thus, we will use a function that separates the variables according to this classification.\n",
        "\n",
        "There are 3 types of variables in the dataset:\n",
        "\n",
        "* Numerical.\n",
        "\n",
        "* Binary categorical.\n",
        "\n",
        "* Non-binary categorical"
      ],
      "metadata": {
        "id": "V7U4WeV6my1m"
      }
    },
    {
      "cell_type": "code",
      "source": [
        "bin_var, cat_var, num_var = classification_features(churn, 'Churn')"
      ],
      "metadata": {
        "id": "5CkkqvfqmuLN"
      },
      "execution_count": 35,
      "outputs": []
    },
    {
      "cell_type": "markdown",
      "source": [
        "### Categorical and non-binary features"
      ],
      "metadata": {
        "id": "dt3tB9bEm5XN"
      }
    },
    {
      "cell_type": "code",
      "source": [
        "churn = pd.get_dummies(churn, columns = cat_var)"
      ],
      "metadata": {
        "id": "Xj9OdjsNm4Cg"
      },
      "execution_count": 36,
      "outputs": []
    },
    {
      "cell_type": "markdown",
      "source": [
        "### Categorical and binary features"
      ],
      "metadata": {
        "id": "jlr2aLtwo7uW"
      }
    },
    {
      "cell_type": "code",
      "source": [
        "ordinal_encoder = OrdinalEncoder(dtype=int)\n",
        "ordinal_encoder.fit(churn[bin_var])\n",
        "churn[bin_var] = ordinal_encoder.transform(churn[bin_var])"
      ],
      "metadata": {
        "id": "BhZgkBCLo6EY"
      },
      "execution_count": 37,
      "outputs": []
    },
    {
      "cell_type": "markdown",
      "source": [
        "### Train-test split"
      ],
      "metadata": {
        "id": "FU8CEdWRpDLT"
      }
    },
    {
      "cell_type": "code",
      "source": [
        "feature = churn.drop('Churn', axis=1)\n",
        "target = churn['Churn']"
      ],
      "metadata": {
        "id": "DhcNm8Y4pA_N"
      },
      "execution_count": 38,
      "outputs": []
    },
    {
      "cell_type": "code",
      "source": [
        "X_train, X_test, y_train, y_test = train_test_split(feature, target, test_size=0.2, random_state=42)"
      ],
      "metadata": {
        "id": "zAEpcwJGpJEh"
      },
      "execution_count": 39,
      "outputs": []
    },
    {
      "cell_type": "markdown",
      "source": [
        "For preprocessing we will use:\n",
        "\n",
        "* Numerical variables: standardization of the data.\n",
        "\n",
        "* Binary categorical variables: binary encoder (\"0 and 1\").\n",
        "\n",
        "* Non-binary categorical variables: *One Hot Encoder*."
      ],
      "metadata": {
        "id": "xpajwqF4pMx_"
      }
    },
    {
      "cell_type": "markdown",
      "source": [
        "### Numerical features"
      ],
      "metadata": {
        "id": "OElZuGg2pQS9"
      }
    },
    {
      "cell_type": "code",
      "source": [
        "scaler = StandardScaler()\n",
        "scaler.fit(X_train[num_var])\n",
        "X_train[num_var] = scaler.transform(X_train[num_var])\n",
        "X_test[num_var] = scaler.transform(X_test[num_var])"
      ],
      "metadata": {
        "id": "TC0lONz3pKiD"
      },
      "execution_count": 40,
      "outputs": []
    },
    {
      "cell_type": "markdown",
      "source": [
        "## Selecting a simple algorithm\n",
        "\n",
        "We will also test the performance of several simple models and select the one with the best performance to further improve. For this, we will test the following classification algorithms, through a *5-fold* cross-validation:\n",
        "\n",
        "* Logistic regression.\n",
        "\n",
        "* Random Forest.\n",
        "\n",
        "* Ada Boost.\n",
        "\n",
        "* Support Vector Machine.\n",
        "\n",
        "* K-Nearest Neighbors.\n",
        "\n",
        "* XGBoost."
      ],
      "metadata": {
        "id": "96BlRyTDpaA-"
      }
    },
    {
      "cell_type": "markdown",
      "source": [
        "### Evaluation metrics\n",
        "\n",
        "Before building the models, it is necessary to specify the means by which we will evaluate their performance. In this context, a model would have two types of possible errors:\n",
        "\n",
        "* Predict the occurence of churn, but churn not to occur.\n",
        "\n",
        "* Predict that churn will not occur, but churn will occur.\n",
        "\n",
        "The first type would be a **false positive** error, while the second would be a **false negative** case.\n",
        "\n",
        "For this problem specifically, a false negative error would be much more harmful for the company, as it would mean the loss of a customer. Given this fact, the main metric we will use will be *recall*. It is related to the amount of false negatives in the predictions made by the model."
      ],
      "metadata": {
        "id": "SkDR1qdKpkKD"
      }
    },
    {
      "cell_type": "code",
      "source": [
        "classifiers = [LogisticRegression(),\n",
        "               RandomForestClassifier(),\n",
        "               AdaBoostClassifier(),\n",
        "               SVC(),\n",
        "               KNeighborsClassifier(),\n",
        "               XGBClassifier()]"
      ],
      "metadata": {
        "id": "cdTu-xT5pMDi"
      },
      "execution_count": 41,
      "outputs": []
    },
    {
      "cell_type": "code",
      "source": [
        "for classifier in classifiers:\n",
        "  score = cross_val_score(classifier, X_train, y_train, cv=5, scoring='recall')\n",
        "  print(classifier, score.mean())"
      ],
      "metadata": {
        "colab": {
          "base_uri": "https://localhost:8080/"
        },
        "id": "YynaKbAPp3pO",
        "outputId": "faba1d64-f221-44ca-d7bc-8fb881028eae"
      },
      "execution_count": 42,
      "outputs": [
        {
          "output_type": "stream",
          "name": "stdout",
          "text": [
            "LogisticRegression() 0.5591973244147157\n",
            "RandomForestClassifier() 0.5063545150501672\n",
            "AdaBoostClassifier() 0.5431438127090301\n",
            "SVC() 0.5083612040133779\n",
            "KNeighborsClassifier() 0.545819397993311\n",
            "XGBClassifier() 0.5418060200668896\n"
          ]
        }
      ]
    },
    {
      "cell_type": "markdown",
      "source": [
        "\n",
        "As we can see, very similar results were obtained by logistic regression, AdaBoost, K-Nearest Neighbors and XGBoost. We will test two models here: a logistic regression, as it had the best standard performance, and an XGBoost, as it is a highly flexible model with great potential for improvement."
      ],
      "metadata": {
        "id": "Xg_s7ufep964"
      }
    },
    {
      "cell_type": "markdown",
      "source": [
        "### Dealing with data imbalance\n",
        "\n",
        "As we saw earlier, there is an imbalance of data between the two classes. To deal with this, we will use the *class weight* method here, which sets a higher penalty in the algorithm for misclassification of the minority class, which is precisely what we are trying to predict here."
      ],
      "metadata": {
        "id": "Om2rcOofqA5N"
      }
    },
    {
      "cell_type": "markdown",
      "source": [
        "## Logistic regression\n",
        "\n",
        "Let's start by training a logistic regression. We will optimize the regularization hyperparameter (``C``) with a *grid search*."
      ],
      "metadata": {
        "id": "Bj4CJWYNq9Lt"
      }
    },
    {
      "cell_type": "code",
      "source": [
        "cv = StratifiedKFold(shuffle=True)"
      ],
      "metadata": {
        "id": "NK97Nx5WrLOw"
      },
      "execution_count": 43,
      "outputs": []
    },
    {
      "cell_type": "code",
      "source": [
        "log_reg = LogisticRegression(class_weight='balanced', random_state=42, max_iter=300)"
      ],
      "metadata": {
        "id": "Ck0KwanbrNMk"
      },
      "execution_count": 44,
      "outputs": []
    },
    {
      "cell_type": "code",
      "source": [
        "log_reg_params = {\n",
        "    'C': [0.01, 0.1, 1, 10, 100]\n",
        "}\n",
        "\n",
        "grid_search_log = GridSearchCV(log_reg, log_reg_params, cv = cv, scoring='recall')\n",
        "grid_search_log.fit(X_train, y_train)\n",
        "\n",
        "grid_search_log.best_params_, grid_search_log.best_score_"
      ],
      "metadata": {
        "colab": {
          "base_uri": "https://localhost:8080/"
        },
        "id": "_TfSU-G_rO2N",
        "outputId": "9d4fbfa7-7158-415e-88a2-42efc5456a99"
      },
      "execution_count": 45,
      "outputs": [
        {
          "output_type": "execute_result",
          "data": {
            "text/plain": [
              "({'C': 1}, 0.8)"
            ]
          },
          "metadata": {},
          "execution_count": 45
        }
      ]
    },
    {
      "cell_type": "code",
      "source": [
        "log_reg = LogisticRegression(class_weight='balanced', random_state=42, C=10)"
      ],
      "metadata": {
        "id": "wND-qWrTrRPV"
      },
      "execution_count": 46,
      "outputs": []
    },
    {
      "cell_type": "code",
      "source": [
        "log_reg.fit(X_train, y_train)\n",
        "log_reg_preds = log_reg.predict(X_test)"
      ],
      "metadata": {
        "id": "x5rMeeaqrSs0"
      },
      "execution_count": 47,
      "outputs": []
    },
    {
      "cell_type": "code",
      "source": [
        "metrics(y_test, log_reg_preds)"
      ],
      "metadata": {
        "colab": {
          "base_uri": "https://localhost:8080/"
        },
        "id": "M-UInmnZrUcL",
        "outputId": "268af68c-98c4-4ddd-d176-654d638ba8da"
      },
      "execution_count": 48,
      "outputs": [
        {
          "output_type": "stream",
          "name": "stdout",
          "text": [
            "Accuracy:  0.7299218194740583\n",
            "Recall:  0.7914438502673797\n",
            "Precision:  0.49498327759197325\n",
            "F1-score:  0.6090534979423867\n"
          ]
        }
      ]
    },
    {
      "cell_type": "code",
      "source": [
        "plot_confusion_matrix(y_test, log_reg_preds)"
      ],
      "metadata": {
        "colab": {
          "base_uri": "https://localhost:8080/",
          "height": 369
        },
        "id": "hx5WL6mQrYnk",
        "outputId": "246c0926-bd96-477f-b543-6a17ea19d2b6"
      },
      "execution_count": 49,
      "outputs": [
        {
          "output_type": "display_data",
          "data": {
            "text/plain": [
              "<Figure size 576x360 with 2 Axes>"
            ],
            "image/png": "[encoded data removed]"
          },
          "metadata": {
            "needs_background": "light"
          }
        }
      ]
    },
    {
      "cell_type": "markdown",
      "source": [
        "## XGBoost\n",
        "\n",
        "XGBoost is a decision algorithm that belongs to the family of *gradient boosting* models, which are sophistications of decision trees.\n",
        "\n",
        "### Optimizing hyperparameters\n",
        "\n",
        "A typical approach to hyperparameter optimization with XGBoost is as follows:\n",
        "\n",
        "* Choose a default *learning rate* (such as 0.1). From there, choose the best number of trees for training.\n",
        "\n",
        "* Optimize tree parameters.\n",
        "\n",
        "* Optimize the regularization parameters.\n",
        "\n",
        "Therefore, instead of considering all possible combinations of hyperparameters, we divide the process into steps and optimize one step at a time."
      ],
      "metadata": {
        "id": "jqVYSw3orh0_"
      }
    },
    {
      "cell_type": "markdown",
      "source": [
        "#### Optimizing the number of trees (``n_instances``)"
      ],
      "metadata": {
        "id": "kc_xoGu6s1Fr"
      }
    },
    {
      "cell_type": "code",
      "source": [
        "xgb1 = XGBClassifier(\n",
        "    learning_rate=0.1,\n",
        "    seed=27,\n",
        "    scale_pos_weight = len(y_train[y_train == 0]) / len(y_train[y_train== 1])\n",
        ")"
      ],
      "metadata": {
        "id": "SqFB2SHwsxuv"
      },
      "execution_count": 50,
      "outputs": []
    },
    {
      "cell_type": "code",
      "source": [
        "param_grid = {\n",
        "    'n_estimators': [n for n in range(100, 1000, 50)]\n",
        "}\n",
        "\n",
        "\n",
        "grid_search = GridSearchCV(xgb1, param_grid, scoring='recall', n_jobs=-1, verbose=2, cv=cv)\n",
        "\n",
        "grid_search.fit(X_train, y_train)"
      ],
      "metadata": {
        "colab": {
          "base_uri": "https://localhost:8080/"
        },
        "id": "H5Y-sGtDs4i0",
        "outputId": "3df87130-c3f0-4491-a9ea-0ae6990ebd56"
      },
      "execution_count": 51,
      "outputs": [
        {
          "output_type": "stream",
          "name": "stdout",
          "text": [
            "Fitting 5 folds for each of 18 candidates, totalling 90 fits\n"
          ]
        },
        {
          "output_type": "execute_result",
          "data": {
            "text/plain": [
              "GridSearchCV(cv=StratifiedKFold(n_splits=5, random_state=None, shuffle=True),\n",
              "             estimator=XGBClassifier(scale_pos_weight=2.762541806020067,\n",
              "                                     seed=27),\n",
              "             n_jobs=-1,\n",
              "             param_grid={'n_estimators': [100, 150, 200, 250, 300, 350, 400,\n",
              "                                          450, 500, 550, 600, 650, 700, 750,\n",
              "                                          800, 850, 900, 950]},\n",
              "             scoring='recall', verbose=2)"
            ]
          },
          "metadata": {},
          "execution_count": 51
        }
      ]
    },
    {
      "cell_type": "code",
      "source": [
        "print(grid_search.best_params_, grid_search.best_score_)"
      ],
      "metadata": {
        "colab": {
          "base_uri": "https://localhost:8080/"
        },
        "id": "LNmUpa_Js6Rk",
        "outputId": "1807d59a-fc9b-4234-8595-d3855cf7d2e8"
      },
      "execution_count": 52,
      "outputs": [
        {
          "output_type": "stream",
          "name": "stdout",
          "text": [
            "{'n_estimators': 100} 0.8\n"
          ]
        }
      ]
    },
    {
      "cell_type": "markdown",
      "source": [
        "#### ``min_child_weight`` e ``max_depth``"
      ],
      "metadata": {
        "id": "e83uxjY0s-7m"
      }
    },
    {
      "cell_type": "code",
      "source": [
        "xgb2 = XGBClassifier(\n",
        "    learning_rate=0.1,\n",
        "    scale_pos_weight= len(y_train[y_train == 0]) / len(y_train[y_train== 1]),\n",
        "    seed=27,\n",
        "    n_estimators=100\n",
        ")"
      ],
      "metadata": {
        "id": "7nQtdG6Ns74s"
      },
      "execution_count": 53,
      "outputs": []
    },
    {
      "cell_type": "code",
      "source": [
        "tree_param_grid = {\n",
        "    'max_depth': [n for n in range(3, 10)],\n",
        "    'min_child_weight': [n for n in range(3, 10)]\n",
        "}\n",
        "\n",
        "\n",
        "tree_grid_search = GridSearchCV(xgb2, tree_param_grid, scoring='recall', n_jobs=-1, verbose=2, cv=cv)\n",
        "\n",
        "tree_grid_search.fit(X_train, y_train)"
      ],
      "metadata": {
        "colab": {
          "base_uri": "https://localhost:8080/"
        },
        "id": "tNIgGhxRtAwG",
        "outputId": "230523db-cfcd-4379-c381-c5355e94195b"
      },
      "execution_count": 54,
      "outputs": [
        {
          "output_type": "stream",
          "name": "stdout",
          "text": [
            "Fitting 5 folds for each of 49 candidates, totalling 245 fits\n"
          ]
        },
        {
          "output_type": "execute_result",
          "data": {
            "text/plain": [
              "GridSearchCV(cv=StratifiedKFold(n_splits=5, random_state=None, shuffle=True),\n",
              "             estimator=XGBClassifier(scale_pos_weight=2.762541806020067,\n",
              "                                     seed=27),\n",
              "             n_jobs=-1,\n",
              "             param_grid={'max_depth': [3, 4, 5, 6, 7, 8, 9],\n",
              "                         'min_child_weight': [3, 4, 5, 6, 7, 8, 9]},\n",
              "             scoring='recall', verbose=2)"
            ]
          },
          "metadata": {},
          "execution_count": 54
        }
      ]
    },
    {
      "cell_type": "code",
      "source": [
        "tree_param_grid = {\n",
        "    'max_depth': [n for n in range(3, 10)],\n",
        "    'min_child_weight': [n for n in range(3, 10)]\n",
        "}\n",
        "\n",
        "\n",
        "tree_grid_search = GridSearchCV(xgb2, tree_param_grid, scoring='recall', n_jobs=-1, verbose=2, cv=cv)\n",
        "\n",
        "tree_grid_search.fit(X_train, y_train)"
      ],
      "metadata": {
        "colab": {
          "base_uri": "https://localhost:8080/"
        },
        "id": "5kZsI2OLtCR9",
        "outputId": "0886f43b-dd9f-4d82-ae72-8ef202d90fc3"
      },
      "execution_count": 55,
      "outputs": [
        {
          "output_type": "stream",
          "name": "stdout",
          "text": [
            "Fitting 5 folds for each of 49 candidates, totalling 245 fits\n"
          ]
        },
        {
          "output_type": "execute_result",
          "data": {
            "text/plain": [
              "GridSearchCV(cv=StratifiedKFold(n_splits=5, random_state=None, shuffle=True),\n",
              "             estimator=XGBClassifier(scale_pos_weight=2.762541806020067,\n",
              "                                     seed=27),\n",
              "             n_jobs=-1,\n",
              "             param_grid={'max_depth': [3, 4, 5, 6, 7, 8, 9],\n",
              "                         'min_child_weight': [3, 4, 5, 6, 7, 8, 9]},\n",
              "             scoring='recall', verbose=2)"
            ]
          },
          "metadata": {},
          "execution_count": 55
        }
      ]
    },
    {
      "cell_type": "markdown",
      "source": [
        "#### ``gamma``"
      ],
      "metadata": {
        "id": "VmAiWzOZtHR_"
      }
    },
    {
      "cell_type": "code",
      "source": [
        "xgb3 = XGBClassifier(\n",
        "    learning_rate=0.1,\n",
        "    scale_pos_weight= len(y_train[y_train == 0]) / len(y_train[y_train== 1]),\n",
        "    seed=27,\n",
        "    n_estimators=100,\n",
        "    max_depth = 3,\n",
        "    min_child_weight = 4\n",
        ")"
      ],
      "metadata": {
        "id": "-S4FouImtEiS"
      },
      "execution_count": 56,
      "outputs": []
    },
    {
      "cell_type": "code",
      "source": [
        "gamma_params = {\n",
        "    'gamma' : [n/10.0 for n in range(0, 10)]\n",
        "}\n",
        "grid_search_gamma = GridSearchCV(xgb3, gamma_params, cv = cv, scoring='recall')\n",
        "grid_search_gamma.fit(X_train, y_train)"
      ],
      "metadata": {
        "colab": {
          "base_uri": "https://localhost:8080/"
        },
        "id": "DIBTHsr7tL9B",
        "outputId": "5874dbfa-d134-416a-b38e-74c6c2621553"
      },
      "execution_count": 57,
      "outputs": [
        {
          "output_type": "execute_result",
          "data": {
            "text/plain": [
              "GridSearchCV(cv=StratifiedKFold(n_splits=5, random_state=None, shuffle=True),\n",
              "             estimator=XGBClassifier(min_child_weight=4,\n",
              "                                     scale_pos_weight=2.762541806020067,\n",
              "                                     seed=27),\n",
              "             param_grid={'gamma': [0.0, 0.1, 0.2, 0.3, 0.4, 0.5, 0.6, 0.7, 0.8,\n",
              "                                   0.9]},\n",
              "             scoring='recall')"
            ]
          },
          "metadata": {},
          "execution_count": 57
        }
      ]
    },
    {
      "cell_type": "code",
      "source": [
        "print(grid_search_gamma.best_params_, grid_search_gamma.best_score_)"
      ],
      "metadata": {
        "colab": {
          "base_uri": "https://localhost:8080/"
        },
        "id": "BFXogGRAtNka",
        "outputId": "c85fbc17-6d9f-47d5-b296-739a281dcecf"
      },
      "execution_count": 58,
      "outputs": [
        {
          "output_type": "stream",
          "name": "stdout",
          "text": [
            "{'gamma': 0.8} 0.802675585284281\n"
          ]
        }
      ]
    },
    {
      "cell_type": "markdown",
      "source": [
        "#### ``subsample`` e ``colsample_bytree``"
      ],
      "metadata": {
        "id": "158aSmKitR1D"
      }
    },
    {
      "cell_type": "code",
      "source": [
        "sample_params = {\n",
        "    'subsample': [n/10 for n in range(5, 10)],\n",
        "    'colsample_bytrre': [n/10 for n in range(5, 10)]\n",
        "}\n",
        "\n",
        "grid_search_sample = GridSearchCV(xgb3, sample_params, cv = cv, scoring='recall')\n",
        "grid_search_sample.fit(X_train, y_train)"
      ],
      "metadata": {
        "colab": {
          "base_uri": "https://localhost:8080/"
        },
        "id": "cyk1aO3TtPLs",
        "outputId": "6df6d8c9-0887-40cc-cfa3-360aab747a0c"
      },
      "execution_count": 59,
      "outputs": [
        {
          "output_type": "execute_result",
          "data": {
            "text/plain": [
              "GridSearchCV(cv=StratifiedKFold(n_splits=5, random_state=None, shuffle=True),\n",
              "             estimator=XGBClassifier(min_child_weight=4,\n",
              "                                     scale_pos_weight=2.762541806020067,\n",
              "                                     seed=27),\n",
              "             param_grid={'colsample_bytrre': [0.5, 0.6, 0.7, 0.8, 0.9],\n",
              "                         'subsample': [0.5, 0.6, 0.7, 0.8, 0.9]},\n",
              "             scoring='recall')"
            ]
          },
          "metadata": {},
          "execution_count": 59
        }
      ]
    },
    {
      "cell_type": "code",
      "source": [
        "print(grid_search_sample.best_params_, grid_search_sample.best_score_)"
      ],
      "metadata": {
        "colab": {
          "base_uri": "https://localhost:8080/"
        },
        "id": "8ZkU4F-8tT7u",
        "outputId": "f2e8b66c-7254-4905-f889-c595f143b9a9"
      },
      "execution_count": 60,
      "outputs": [
        {
          "output_type": "stream",
          "name": "stdout",
          "text": [
            "{'colsample_bytrre': 0.5, 'subsample': 0.6} 0.7933110367892977\n"
          ]
        }
      ]
    },
    {
      "cell_type": "code",
      "source": [
        "learning_params = {\n",
        "    'learning_rate': [n/100 for n in range(1, 10, 2)]}\n",
        "\n",
        "\n",
        "grid_search_learning = GridSearchCV(xgb3, learning_params, cv = cv, scoring='recall')\n",
        "grid_search_learning.fit(X_train, y_train)"
      ],
      "metadata": {
        "colab": {
          "base_uri": "https://localhost:8080/"
        },
        "id": "_XNfQJPftdOE",
        "outputId": "884392ec-09b1-4e64-d99d-134b78a0fd7d"
      },
      "execution_count": 61,
      "outputs": [
        {
          "output_type": "execute_result",
          "data": {
            "text/plain": [
              "GridSearchCV(cv=StratifiedKFold(n_splits=5, random_state=None, shuffle=True),\n",
              "             estimator=XGBClassifier(min_child_weight=4,\n",
              "                                     scale_pos_weight=2.762541806020067,\n",
              "                                     seed=27),\n",
              "             param_grid={'learning_rate': [0.01, 0.03, 0.05, 0.07, 0.09]},\n",
              "             scoring='recall')"
            ]
          },
          "metadata": {},
          "execution_count": 61
        }
      ]
    },
    {
      "cell_type": "code",
      "source": [
        "print(grid_search_learning.best_params_, grid_search_learning.best_score_)"
      ],
      "metadata": {
        "colab": {
          "base_uri": "https://localhost:8080/"
        },
        "id": "RgwzoMXAvWVf",
        "outputId": "b873fc6e-49b4-4163-b16e-ef18ee3b4962"
      },
      "execution_count": 62,
      "outputs": [
        {
          "output_type": "stream",
          "name": "stdout",
          "text": [
            "{'learning_rate': 0.05} 0.8120401337792643\n"
          ]
        }
      ]
    },
    {
      "cell_type": "code",
      "source": [
        "xgb4 = XGBClassifier(\n",
        "    learning_rate=0.01,\n",
        "    scale_pos_weight= len(y_train[y_train == 0]) / len(y_train[y_train== 1]),\n",
        "    seed=27,\n",
        "    n_estimators=100,\n",
        "    gamma=0,\n",
        "    colsample_bytree = 0.5,\n",
        "    subsample=0.9 \n",
        ")"
      ],
      "metadata": {
        "id": "ukJZgiaMvas3"
      },
      "execution_count": 63,
      "outputs": []
    },
    {
      "cell_type": "code",
      "source": [
        "xgb4.fit(X_train, y_train)\n",
        "xgb_preds = xgb4.predict(X_test)"
      ],
      "metadata": {
        "id": "qyjCjhRzvcck"
      },
      "execution_count": 64,
      "outputs": []
    },
    {
      "cell_type": "code",
      "source": [
        "metrics(y_test, xgb_preds)"
      ],
      "metadata": {
        "colab": {
          "base_uri": "https://localhost:8080/"
        },
        "id": "PLjnKQkBvegd",
        "outputId": "f15d5b69-7f5c-4174-9eed-342703cd44fb"
      },
      "execution_count": 65,
      "outputs": [
        {
          "output_type": "stream",
          "name": "stdout",
          "text": [
            "Accuracy:  0.7185501066098081\n",
            "Recall:  0.8155080213903744\n",
            "Precision:  0.4825949367088608\n",
            "F1-score:  0.606361829025845\n"
          ]
        }
      ]
    },
    {
      "cell_type": "code",
      "source": [
        "plot_confusion_matrix(y_test, xgb_preds)"
      ],
      "metadata": {
        "colab": {
          "base_uri": "https://localhost:8080/",
          "height": 369
        },
        "id": "0mF14KezvgGb",
        "outputId": "79e328f1-cc4a-4c7c-de3c-92e33b7e2309"
      },
      "execution_count": 66,
      "outputs": [
        {
          "output_type": "display_data",
          "data": {
            "text/plain": [
              "<Figure size 576x360 with 2 Axes>"
            ],
            "image/png": "[encoded data removed]"
          },
          "metadata": {
            "needs_background": "light"
          }
        }
      ]
    },
    {
      "cell_type": "markdown",
      "source": [
        "## Results -- business metrics\n",
        "\n",
        "With the results obtained, we can calculate some business metrics.\n",
        "\n",
        "* Churn rate: as explained at the beginning, it is the proportion of customers that churn in the data set.\n",
        "\n",
        "* Predicted churn rate: is the churn rate predicted by the model.\n",
        "\n",
        "* Is the churn rate correctly predicted by the model, relative to the total data set.\n",
        "\n",
        "* Annual churn MMR per customer: is the amount of average annual revenue that each customer that churns and was correctly predicted by the model generates. If we assume that, by identifying these customers, we can prevent 100% of the churns from happening, then this value would be equal to the revenue saved by the company per year and per customer."
      ],
      "metadata": {
        "id": "Un2nrX9cvnds"
      }
    },
    {
      "cell_type": "code",
      "source": [
        "xgb_preds = pd.Series(xgb_preds, index=y_test.index)\n",
        "log_reg_preds = pd.Series(log_reg_preds, index=y_test.index)"
      ],
      "metadata": {
        "id": "RfkVgK9JviHq"
      },
      "execution_count": 67,
      "outputs": []
    },
    {
      "cell_type": "code",
      "source": [
        "print(\"Métricas de negócios -- regressão logística\\n\")\n",
        "business_metrics(y_test, xgb_preds, churn, 'MonthlyCharges')"
      ],
      "metadata": {
        "colab": {
          "base_uri": "https://localhost:8080/"
        },
        "id": "CH495bC4vq0E",
        "outputId": "1ec8fd4a-44be-4ea7-abb1-5a2e6450deb2"
      },
      "execution_count": 68,
      "outputs": [
        {
          "output_type": "stream",
          "name": "stdout",
          "text": [
            "Métricas de negócios -- regressão logística\n",
            "\n"
          ]
        },
        {
          "output_type": "execute_result",
          "data": {
            "text/plain": [
              "Churn rate                      0.265814\n",
              "Predicted churn rate            0.449183\n",
              "Recall                          0.815508\n",
              "Corrected predicted churns      0.216773\n",
              "Yearly MRR churn by client    782.413220\n",
              "dtype: float64"
            ]
          },
          "metadata": {},
          "execution_count": 68
        }
      ]
    },
    {
      "cell_type": "code",
      "source": [
        "print('Métricas de negócios\\n')\n",
        "business_metrics(y_test, log_reg_preds, churn, 'MonthlyCharges')"
      ],
      "metadata": {
        "colab": {
          "base_uri": "https://localhost:8080/"
        },
        "id": "wb-vXYaRvskT",
        "outputId": "c7f495e4-e752-4726-b62c-00278bdf7e04"
      },
      "execution_count": 69,
      "outputs": [
        {
          "output_type": "stream",
          "name": "stdout",
          "text": [
            "Métricas de negócios\n",
            "\n"
          ]
        },
        {
          "output_type": "execute_result",
          "data": {
            "text/plain": [
              "Churn rate                      0.265814\n",
              "Predicted churn rate            0.425018\n",
              "Recall                          0.791444\n",
              "Corrected predicted churns      0.210377\n",
              "Yearly MRR churn by client    782.413220\n",
              "dtype: float64"
            ]
          },
          "metadata": {},
          "execution_count": 69
        }
      ]
    },
    {
      "cell_type": "markdown",
      "source": [
        "## Conclusions\n",
        "\n",
        "As can be seen, we obtain extremely similar results between the two algorithms and even identical in the case of the annual MMR. The biggest weakness of the models is the occurrence of false positives.\n",
        "\n",
        "However, churn detection is around 80%, which reflects a very large earnings potential for the company. So, after implementing this model, the next step would be to create strategies that are able to keep as many customers as possible identified by the machine learning algorithm.\n",
        "\n",
        "Among them, we can mention offering incentives, gifts, discounts, offering better services, improving the quality of contracts, among other alternatives."
      ],
      "metadata": {
        "id": "ljU51ap8v0EE"
      }
    }
  ]
}